{
 "cells": [
  {
   "cell_type": "code",
   "execution_count": 92,
   "id": "f3b02700",
   "metadata": {},
   "outputs": [],
   "source": [
    "import os\n",
    "import numpy as np\n",
    "import cv2\n",
    "import pywt\n",
    "import matplotlib.pyplot as plt\n",
    "from sklearn.neighbors import KNeighborsClassifier"
   ]
  },
  {
   "cell_type": "code",
   "execution_count": 117,
   "id": "c3c8fc76",
   "metadata": {},
   "outputs": [],
   "source": [
    "def calculate_energy(subband):\n",
    "    if len(subband.shape) == 1:\n",
    "        R, C = 1, len(subband)\n",
    "    else:\n",
    "        R, C = subband.shape\n",
    "    return np.sum(np.abs(subband)) / (R * C)\n",
    "\n",
    "def dwt_feature_extraction(image, levels):\n",
    "    imagecv = cv2.imread(image, cv2.IMREAD_GRAYSCALE)\n",
    "    coeffs = pywt.wavedec2(imagecv, 'haar', level=levels)\n",
    "    energy_vector = []\n",
    "\n",
    "    for level in range(levels + 1):\n",
    "        for subband in coeffs[level]:\n",
    "            energy = calculate_energy(subband)\n",
    "            energy_vector.append(energy)\n",
    "\n",
    "    return energy_vector"
   ]
  },
  {
   "cell_type": "code",
   "execution_count": 118,
   "id": "1f289e33",
   "metadata": {},
   "outputs": [],
   "source": [
    "def svd_feature_extraction(image):\n",
    "    imagecv = cv2.imread(image, cv2.IMREAD_GRAYSCALE)\n",
    "    U, S, VT = np.linalg.svd(imagecv)\n",
    "    eigen_vector = VT.T[:, 0]\n",
    "\n",
    "    return eigen_vector"
   ]
  },
  {
   "cell_type": "code",
   "execution_count": 119,
   "id": "9cc89419",
   "metadata": {},
   "outputs": [],
   "source": [
    "def fuse_vectors(energy_vector, eigen_vector):\n",
    "    return np.concatenate((energy_vector, eigen_vector))"
   ]
  },
  {
   "cell_type": "code",
   "execution_count": 120,
   "id": "e17a47f7",
   "metadata": {},
   "outputs": [],
   "source": [
    "def Learning_phase(fingerprint_samples):\n",
    "    database = []\n",
    "\n",
    "    for fingerprint_sample in fingerprint_samples:\n",
    "        energy_vector = dwt_feature_extraction(fingerprint_sample[0], 6)\n",
    "        eigen_vector = svd_feature_extraction(fingerprint_sample[0])\n",
    "\n",
    "        feature_vector = fuse_vectors(energy_vector, eigen_vector)\n",
    "\n",
    "        database.append({'feature_vector': feature_vector, 'class': fingerprint_sample[1]})\n",
    "    return database\n"
   ]
  },
  {
   "cell_type": "code",
   "execution_count": 121,
   "id": "f389e72b",
   "metadata": {},
   "outputs": [],
   "source": [
    "def classify_unknown_fingerprint(unknown_fingerprint, database, k_neighbors=3):\n",
    "    dwt_feature_extraction(fingerprint_sample, 6)\n",
    "    eigen_vector = svd_feature_extraction(unknown_fingerprint)\n",
    "\n",
    "    feature_vector = fuse_vectors(energy_vector, eigen_vector)\n",
    "\n",
    "    X_train = np.array([entry['feature_vector'] for entry in database])\n",
    "    y_train = np.array([entry['class'] for entry in database])\n",
    "\n",
    "    knn_classifier = KNeighborsClassifier(n_neighbors=k_neighbors)\n",
    "    knn_classifier.fit(X_train, y_train)\n",
    "\n",
    "    predicted_class = knn_classifier.predict([feature_vector])\n",
    "\n",
    "    return predicted_class[0]"
   ]
  },
  {
   "cell_type": "code",
   "execution_count": 122,
   "id": "86135e5a",
   "metadata": {},
   "outputs": [],
   "source": [
    "def get_fingerprint_class(img_path):\n",
    "    filename, _ = os.path.splitext(os.path.basename(img_path))\n",
    "\n",
    "    subject_id, age, etc = filename.split('_')\n",
    "\n",
    "    if int(age) <= 12 :\n",
    "      ageClass = 0\n",
    "    elif int(age) <= 19:\n",
    "      ageClass = 1\n",
    "    elif int(age) <= 25:\n",
    "      ageClass = 2\n",
    "    elif int(age) <= 35:\n",
    "      ageClass = 3\n",
    "    elif int(age) > 35:\n",
    "      ageClass = 4\n",
    "    \n",
    "    return ageClass"
   ]
  },
  {
   "cell_type": "code",
   "execution_count": 115,
   "id": "1e8449ec",
   "metadata": {},
   "outputs": [],
   "source": [
    "def loading_data(path):\n",
    "    data = []\n",
    "    for img in os.listdir(path):\n",
    "            ageclass = get_fingerprint_class(os.path.join(path, img))            \n",
    "            data.append([os.path.join(path, img), ageclass])\n",
    "            if len(data) % 5== 0:\n",
    "                print(data)\n",
    "    return data"
   ]
  },
  {
   "cell_type": "code",
   "execution_count": 116,
   "id": "d909efd3",
   "metadata": {
    "scrolled": true
   },
   "outputs": [
    {
     "name": "stdout",
     "output_type": "stream",
     "text": [
      "[['./Age\\\\1_6_CR.BMP', 0], ['./Age\\\\2_6_CR.BMP.BMP', 0], ['./Age\\\\3_15_CR.BMP', 1], ['./Age\\\\4_66_CR.BMP.BMP', 4], ['./Age\\\\5_15_CR.BMP.BMP', 1]]\n"
     ]
    },
    {
     "name": "stderr",
     "output_type": "stream",
     "text": [
      "C:\\Users\\pc\\AppData\\Local\\Temp\\ipykernel_13972\\2761517714.py:4: RuntimeWarning: divide by zero encountered in divide\n",
      "  return np.sum(np.abs(subband)) / (R * C)\n"
     ]
    },
    {
     "ename": "ValueError",
     "evalue": "setting an array element with a sequence. The requested array has an inhomogeneous shape after 1 dimensions. The detected shape was (20,) + inhomogeneous part.",
     "output_type": "error",
     "traceback": [
      "\u001b[1;31m---------------------------------------------------------------------------\u001b[0m",
      "\u001b[1;31mValueError\u001b[0m                                Traceback (most recent call last)",
      "Cell \u001b[1;32mIn[116], line 5\u001b[0m\n\u001b[0;32m      2\u001b[0m pathToImage \u001b[38;5;241m=\u001b[39m \u001b[38;5;124m\"\u001b[39m\u001b[38;5;124m./Age\u001b[39m\u001b[38;5;124m\"\u001b[39m\n\u001b[0;32m      4\u001b[0m fingerprint_samples \u001b[38;5;241m=\u001b[39m loading_data(pathToImage)\n\u001b[1;32m----> 5\u001b[0m database \u001b[38;5;241m=\u001b[39m \u001b[43mLearning_phase\u001b[49m\u001b[43m(\u001b[49m\u001b[43mfingerprint_samples\u001b[49m\u001b[43m)\u001b[49m\n\u001b[0;32m      7\u001b[0m \u001b[38;5;66;03m#load unknown image to classify\u001b[39;00m\n\u001b[0;32m      8\u001b[0m \u001b[38;5;66;03m#unknown_fingerprint = \"unknow_fingerprint.png\"\u001b[39;00m\n\u001b[0;32m      9\u001b[0m \u001b[38;5;66;03m#predicted_class = classify_unknown_fingerprint(unknown_fingerprint, database)\u001b[39;00m\n\u001b[0;32m     10\u001b[0m \n\u001b[0;32m     11\u001b[0m \u001b[38;5;66;03m#print(f\"The unknown fingerprint is classified as: {predicted_class}\")\u001b[39;00m\n",
      "Cell \u001b[1;32mIn[112], line 8\u001b[0m, in \u001b[0;36mLearning_phase\u001b[1;34m(fingerprint_samples)\u001b[0m\n\u001b[0;32m      5\u001b[0m     energy_vector \u001b[38;5;241m=\u001b[39m dwt_feature_extraction(fingerprint_sample[\u001b[38;5;241m0\u001b[39m], \u001b[38;5;241m6\u001b[39m)\n\u001b[0;32m      6\u001b[0m     eigen_vector \u001b[38;5;241m=\u001b[39m svd_feature_extraction(fingerprint_sample[\u001b[38;5;241m0\u001b[39m])\n\u001b[1;32m----> 8\u001b[0m     feature_vector \u001b[38;5;241m=\u001b[39m \u001b[43mfuse_vectors\u001b[49m\u001b[43m(\u001b[49m\u001b[43menergy_vector\u001b[49m\u001b[43m,\u001b[49m\u001b[43m \u001b[49m\u001b[43meigen_vector\u001b[49m\u001b[43m)\u001b[49m\n\u001b[0;32m     10\u001b[0m     database\u001b[38;5;241m.\u001b[39mappend({\u001b[38;5;124m'\u001b[39m\u001b[38;5;124mfeature_vector\u001b[39m\u001b[38;5;124m'\u001b[39m: feature_vector, \u001b[38;5;124m'\u001b[39m\u001b[38;5;124mclass\u001b[39m\u001b[38;5;124m'\u001b[39m: fingerprint_sample[\u001b[38;5;241m1\u001b[39m]})\n\u001b[0;32m     11\u001b[0m \u001b[38;5;28;01mreturn\u001b[39;00m database\n",
      "Cell \u001b[1;32mIn[106], line 2\u001b[0m, in \u001b[0;36mfuse_vectors\u001b[1;34m(energy_vector, eigen_vector)\u001b[0m\n\u001b[0;32m      1\u001b[0m \u001b[38;5;28;01mdef\u001b[39;00m \u001b[38;5;21mfuse_vectors\u001b[39m(energy_vector, eigen_vector):\n\u001b[1;32m----> 2\u001b[0m     \u001b[38;5;28;01mreturn\u001b[39;00m \u001b[43mnp\u001b[49m\u001b[38;5;241;43m.\u001b[39;49m\u001b[43mconcatenate\u001b[49m\u001b[43m(\u001b[49m\u001b[43m(\u001b[49m\u001b[43menergy_vector\u001b[49m\u001b[43m,\u001b[49m\u001b[43m \u001b[49m\u001b[43meigen_vector\u001b[49m\u001b[43m)\u001b[49m\u001b[43m)\u001b[49m\n",
      "\u001b[1;31mValueError\u001b[0m: setting an array element with a sequence. The requested array has an inhomogeneous shape after 1 dimensions. The detected shape was (20,) + inhomogeneous part."
     ]
    }
   ],
   "source": [
    "#load images where age is know\n",
    "pathToImage = \"./Age\"\n",
    "\n",
    "fingerprint_samples = loading_data(pathToImage)\n",
    "database = Learning_phase(fingerprint_samples)\n",
    "\n",
    "#load unknown image to classify\n",
    "#unknown_fingerprint = \"unknow_fingerprint.png\"\n",
    "#predicted_class = classify_unknown_fingerprint(unknown_fingerprint, database)\n",
    "\n",
    "#print(f\"The unknown fingerprint is classified as: {predicted_class}\")"
   ]
  },
  {
   "cell_type": "code",
   "execution_count": null,
   "id": "af8fced8",
   "metadata": {},
   "outputs": [],
   "source": []
  },
  {
   "cell_type": "code",
   "execution_count": null,
   "id": "171a82b3",
   "metadata": {},
   "outputs": [],
   "source": []
  },
  {
   "cell_type": "code",
   "execution_count": null,
   "id": "8427b3e0",
   "metadata": {},
   "outputs": [],
   "source": []
  }
 ],
 "metadata": {
  "kernelspec": {
   "display_name": "tfkernel",
   "language": "python",
   "name": "tfkernel"
  },
  "language_info": {
   "codemirror_mode": {
    "name": "ipython",
    "version": 3
   },
   "file_extension": ".py",
   "mimetype": "text/x-python",
   "name": "python",
   "nbconvert_exporter": "python",
   "pygments_lexer": "ipython3",
   "version": "3.11.3"
  }
 },
 "nbformat": 4,
 "nbformat_minor": 5
}
