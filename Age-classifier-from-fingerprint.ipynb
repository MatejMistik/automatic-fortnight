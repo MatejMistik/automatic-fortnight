{
 "cells": [
  {
   "cell_type": "code",
   "execution_count": 2,
   "id": "f3b02700",
   "metadata": {},
   "outputs": [],
   "source": [
    "import os\n",
    "import numpy as np\n",
    "import cv2\n",
    "import pywt\n",
    "import matplotlib.pyplot as plt\n",
    "from sklearn.neighbors import KNeighborsClassifier"
   ]
  },
  {
   "cell_type": "code",
   "execution_count": 3,
   "id": "c3c8fc76",
   "metadata": {},
   "outputs": [],
   "source": [
    "def calculate_energy(subband):\n",
    "    if len(subband.shape) == 1:\n",
    "        R, C = 1, len(subband)\n",
    "    else:\n",
    "        R, C = subband.shape\n",
    "    return np.sum(np.abs(subband)) / (R * C)\n",
    "\n",
    "def dwt_feature_extraction(image, levels):\n",
    "    imagecv = cv2.imread(image, cv2.IMREAD_GRAYSCALE)\n",
    "    coeffs = pywt.wavedec2(imagecv, 'haar', level=levels)\n",
    "    energy_vector = []\n",
    "\n",
    "    for level in range(levels + 1):\n",
    "        for subband in coeffs[level]:\n",
    "            energy = calculate_energy(subband)\n",
    "            energy_vector.append(energy)\n",
    "\n",
    "    return energy_vector"
   ]
  },
  {
   "cell_type": "code",
   "execution_count": 4,
   "id": "1f289e33",
   "metadata": {},
   "outputs": [],
   "source": [
    "def svd_feature_extraction(image):\n",
    "    imagecv = cv2.imread(image, cv2.IMREAD_GRAYSCALE)\n",
    "    U, S, VT = np.linalg.svd(imagecv)\n",
    "    eigen_vector = VT.T[:, 0]\n",
    "\n",
    "    return eigen_vector"
   ]
  },
  {
   "cell_type": "code",
   "execution_count": 5,
   "id": "c9be3541",
   "metadata": {},
   "outputs": [],
   "source": [
    "def fuse_vectors(energy_vector, eigen_vector):\n",
    "    return np.concatenate((energy_vector, eigen_vector))"
   ]
  },
  {
   "cell_type": "code",
   "execution_count": 23,
   "id": "451f7de7",
   "metadata": {},
   "outputs": [],
   "source": [
    "def Learning_phase(fingerprint_samples):\n",
    "    database = []\n",
    "    for fingerprint_sample in fingerprint_samples:\n",
    "        energy_vector = dwt_feature_extraction(fingerprint_sample[0], 6)\n",
    "        eigen_vector = svd_feature_extraction(fingerprint_sample[0])\n",
    "\n",
    "        feature_vector = fuse_vectors(energy_vector, eigen_vector)\n",
    "\n",
    "        database.append({'feature_vector': feature_vector, 'class': fingerprint_sample[1]})\n",
    "    return database\n"
   ]
  },
  {
   "cell_type": "code",
   "execution_count": 35,
   "id": "62890858",
   "metadata": {},
   "outputs": [],
   "source": [
    "def classify_unknown_fingerprint(unknown_fingerprint, database, k_neighbors=3):\n",
    "    energy_vector = dwt_feature_extraction(unknown_fingerprint, 6)\n",
    "    eigen_vector = svd_feature_extraction(unknown_fingerprint)\n",
    "\n",
    "    feature_vector = fuse_vectors(energy_vector, eigen_vector)\n",
    "    feature_vector_length = len(database[0]['feature_vector'])\n",
    "    \n",
    "    X_train = np.array([entry['feature_vector'] for entry in database if len(entry['feature_vector']) == feature_vector_length])\n",
    "    y_train = np.array([entry['class'] for entry in database if len(entry['feature_vector']) == feature_vector_length])\n",
    "\n",
    "    knn_classifier = KNeighborsClassifier(n_neighbors=k_neighbors)\n",
    "    knn_classifier.fit(X_train, y_train)\n",
    "\n",
    "    predicted_class = knn_classifier.predict([feature_vector])\n",
    "\n",
    "    return predicted_class[0]"
   ]
  },
  {
   "cell_type": "code",
   "execution_count": 36,
   "id": "a9c60b5e",
   "metadata": {},
   "outputs": [],
   "source": [
    "def get_fingerprint_class(img_path, socofing):\n",
    "    filename, _ = os.path.splitext(os.path.basename(img_path))\n",
    "\n",
    "    if socofing:\n",
    "        return 1\n",
    "    else:\n",
    "        subject_id, age, etc = filename.split('_')\n",
    "\n",
    "        if int(age) <= 12 :\n",
    "          ageClass = 0\n",
    "        elif int(age) <= 19:\n",
    "          ageClass = 1\n",
    "        elif int(age) <= 25:\n",
    "          ageClass = 2\n",
    "        elif int(age) <= 35:\n",
    "          ageClass = 3\n",
    "        elif int(age) > 35:\n",
    "          ageClass = 4\n",
    "    \n",
    "    return ageClass"
   ]
  },
  {
   "cell_type": "code",
   "execution_count": 37,
   "id": "6c377d72",
   "metadata": {},
   "outputs": [],
   "source": [
    "def loading_data(path, socofing):\n",
    "    data = []\n",
    "    for img in os.listdir(path):\n",
    "            ageclass = get_fingerprint_class(os.path.join(path, img), socofing)            \n",
    "            data.append([os.path.join(path, img), ageclass])\n",
    "    return data"
   ]
  },
  {
   "cell_type": "code",
   "execution_count": 39,
   "id": "c770b792",
   "metadata": {
    "scrolled": true
   },
   "outputs": [
    {
     "name": "stdout",
     "output_type": "stream",
     "text": [
      "['./Altered/Altered-Easy\\\\100__M_Left_index_finger_CR.BMP', 1]\n",
      "Learning phase START\n",
      "17931\n",
      "Learning phase DONE\n",
      "The unknown fingerprint is classified as: 1\n"
     ]
    }
   ],
   "source": [
    "#load images where age is know\n",
    "pathToImage = \"./Altered/Altered-Easy\"\n",
    "\n",
    "fingerprint_samples = loading_data(pathToImage, True)\n",
    "print(fingerprint_samples[0])\n",
    "\n",
    "print(\"Learning phase START\")\n",
    "database = Learning_phase(fingerprint_samples)\n",
    "print(len(database))\n",
    "print(\"Learning phase DONE\")\n",
    "\n",
    "\n",
    "#load unknown image to classify\n",
    "unknown_fingerprint = \"unknow_fingerprint.BMP\"\n",
    "predicted_class = classify_unknown_fingerprint(unknown_fingerprint, database)\n",
    "\n",
    "print(f\"The unknown fingerprint is classified as: {predicted_class}\")"
   ]
  },
  {
   "cell_type": "code",
   "execution_count": null,
   "id": "b026c21a",
   "metadata": {},
   "outputs": [],
   "source": []
  }
 ],
 "metadata": {
  "kernelspec": {
   "display_name": "tfkernel",
   "language": "python",
   "name": "tfkernel"
  },
  "language_info": {
   "codemirror_mode": {
    "name": "ipython",
    "version": 3
   },
   "file_extension": ".py",
   "mimetype": "text/x-python",
   "name": "python",
   "nbconvert_exporter": "python",
   "pygments_lexer": "ipython3",
   "version": "3.11.3"
  }
 },
 "nbformat": 4,
 "nbformat_minor": 5
}
